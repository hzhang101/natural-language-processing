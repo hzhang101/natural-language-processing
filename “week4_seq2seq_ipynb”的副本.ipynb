{
  "nbformat": 4,
  "nbformat_minor": 0,
  "metadata": {
    "colab": {
      "name": "“week4-seq2seq.ipynb”的副本",
      "version": "0.3.2",
      "provenance": [],
      "collapsed_sections": [],
      "include_colab_link": true
    },
    "language_info": {
      "codemirror_mode": {
        "name": "ipython",
        "version": 3
      },
      "file_extension": ".py",
      "mimetype": "text/x-python",
      "name": "python",
      "nbconvert_exporter": "python",
      "pygments_lexer": "ipython3",
      "version": "3.4.3"
    },
    "kernelspec": {
      "display_name": "Python 3",
      "language": "python",
      "name": "python3"
    }
  },
  "cells": [
    {
      "cell_type": "markdown",
      "metadata": {
        "id": "view-in-github",
        "colab_type": "text"
      },
      "source": [
        "<a href=\"https://colab.research.google.com/github/hzhang101/natural-language-processing/blob/master/%E2%80%9Cweek4_seq2seq_ipynb%E2%80%9D%E7%9A%84%E5%89%AF%E6%9C%AC.ipynb\" target=\"_parent\"><img src=\"https://colab.research.google.com/assets/colab-badge.svg\" alt=\"Open In Colab\"/></a>"
      ]
    },
    {
      "cell_type": "markdown",
      "metadata": {
        "id": "34w9dD_pD46e",
        "colab_type": "text"
      },
      "source": [
        "# Learn to calculate with seq2seq model\n",
        "\n",
        "In this assignment, you will learn how to use neural networks to solve sequence-to-sequence prediction tasks. Seq2Seq models are very popular these days because they achieve great results in Machine Translation, Text Summarization, Conversational Modeling and more.\n",
        "\n",
        "Using sequence-to-sequence modeling you are going to build a calculator for evaluating arithmetic expressions, by taking an equation as an input to the neural network and producing an answer as it's output.\n",
        "\n",
        "The resulting solution for this problem will be based on state-of-the-art approaches for sequence-to-sequence learning and you should be able to easily adapt it to solve other tasks. However, if you want to train your own machine translation system or intellectual chat bot, it would be useful to have access to compute resources like GPU, and be patient, because training of such systems is usually time consuming. \n",
        "\n",
        "### Libraries\n",
        "\n",
        "For this task you will need the following libraries:\n",
        " - [TensorFlow](https://www.tensorflow.org) — an open-source software library for Machine Intelligence.\n",
        " - [scikit-learn](http://scikit-learn.org/stable/index.html) — a tool for data mining and data analysis.\n",
        " \n",
        "If you have never worked with TensorFlow, you will probably want to read some tutorials during your work on this assignment, e.g. [Neural Machine Translation](https://www.tensorflow.org/tutorials/seq2seq) tutorial deals with very similar task and can explain some concepts to you. "
      ]
    },
    {
      "cell_type": "markdown",
      "metadata": {
        "id": "x6QjAfUED46h",
        "colab_type": "text"
      },
      "source": [
        "### Data\n",
        "\n",
        "One benefit of this task is that you don't need to download any data — you will generate it on your own! We will use two operators (addition and subtraction) and work with positive integer numbers in some range. Here are examples of correct inputs and outputs:\n",
        "\n",
        "    Input: '1+2'\n",
        "    Output: '3'\n",
        "    \n",
        "    Input: '0-99'\n",
        "    Output: '-99'\n",
        "\n",
        "*Note, that there are no spaces between operators and operands.*\n",
        "\n",
        "\n",
        "Now you need to implement the function *generate_equations*, which will be used to generate the data."
      ]
    },
    {
      "cell_type": "code",
      "metadata": {
        "id": "uYgI9KYhD46j",
        "colab_type": "code",
        "colab": {}
      },
      "source": [
        "import random"
      ],
      "execution_count": 0,
      "outputs": []
    },
    {
      "cell_type": "code",
      "metadata": {
        "id": "KtiSvL_AD46n",
        "colab_type": "code",
        "colab": {}
      },
      "source": [
        "def generate_equations(allowed_operators, dataset_size, min_value, max_value):\n",
        "    \"\"\"Generates pairs of equations and solutions to them.\n",
        "    \n",
        "       Each equation has a form of two integers with an operator in between.\n",
        "       Each solution is an integer with the result of the operaion.\n",
        "    \n",
        "        allowed_operators: list of strings, allowed operators.\n",
        "        dataset_size: an integer, number of equations to be generated.\n",
        "        min_value: an integer, min value of each operand.\n",
        "        max_value: an integer, max value of each operand.\n",
        "\n",
        "        result: a list of tuples of strings (equation, solution).\n",
        "    \"\"\"\n",
        "    sample = []\n",
        "    for _ in range(dataset_size):\n",
        "        a = random.randint(min_value,max_value)\n",
        "        b = random.randint(min_value,max_value)\n",
        "        equation = str(a)+random.choice(allowed_operators)+str(b)\n",
        "        sample.append((equation,str(eval(equation))))        \n",
        "    return sample"
      ],
      "execution_count": 0,
      "outputs": []
    },
    {
      "cell_type": "markdown",
      "metadata": {
        "id": "W5kwVhfTD46s",
        "colab_type": "text"
      },
      "source": [
        "To check the correctness of your implementation, use *test_generate_equations* function:"
      ]
    },
    {
      "cell_type": "code",
      "metadata": {
        "id": "IEa4vIPAD46s",
        "colab_type": "code",
        "colab": {}
      },
      "source": [
        "def test_generate_equations():\n",
        "    allowed_operators = ['+', '-']\n",
        "    dataset_size = 10\n",
        "    for (input_, output_) in generate_equations(allowed_operators, dataset_size, 0, 100):\n",
        "        if not (type(input_) is str and type(output_) is str):\n",
        "            return \"Both parts should be strings.\"\n",
        "        if eval(input_) != int(output_):\n",
        "            return \"The (equation: {!r}, solution: {!r}) pair is incorrect.\".format(input_, output_)\n",
        "    return \"Tests passed.\""
      ],
      "execution_count": 0,
      "outputs": []
    },
    {
      "cell_type": "code",
      "metadata": {
        "id": "Q3H_f02JD46w",
        "colab_type": "code",
        "outputId": "ecf39374-6208-4396-d32f-84a1971ba812",
        "colab": {
          "base_uri": "https://localhost:8080/",
          "height": 34
        }
      },
      "source": [
        "print(test_generate_equations())"
      ],
      "execution_count": 0,
      "outputs": [
        {
          "output_type": "stream",
          "text": [
            "Tests passed.\n"
          ],
          "name": "stdout"
        }
      ]
    },
    {
      "cell_type": "markdown",
      "metadata": {
        "id": "ttT2ibWSD46z",
        "colab_type": "text"
      },
      "source": [
        "Finally, we are ready to generate the train and test data for the neural network:"
      ]
    },
    {
      "cell_type": "code",
      "metadata": {
        "id": "NfH5Ot7JD460",
        "colab_type": "code",
        "colab": {}
      },
      "source": [
        "from sklearn.model_selection import train_test_split"
      ],
      "execution_count": 0,
      "outputs": []
    },
    {
      "cell_type": "code",
      "metadata": {
        "id": "hsCWiHa6D463",
        "colab_type": "code",
        "colab": {}
      },
      "source": [
        "allowed_operators = ['+', '-']\n",
        "dataset_size = 100000\n",
        "data = generate_equations(allowed_operators, dataset_size, min_value=0, max_value=9999)\n",
        "\n",
        "train_set, test_set = train_test_split(data, test_size=0.2, random_state=42)"
      ],
      "execution_count": 0,
      "outputs": []
    },
    {
      "cell_type": "markdown",
      "metadata": {
        "id": "RcP6DL3TD466",
        "colab_type": "text"
      },
      "source": [
        "## Prepare data for the neural network\n",
        "\n",
        "The next stage of data preparation is creating mappings of the characters to their indices in some vocabulary. Since in our task we already know which symbols will appear in the inputs and outputs, generating the vocabulary is a simple step.\n",
        "\n",
        "#### How to create dictionaries for other task\n",
        "\n",
        "First of all, you need to understand what is the basic unit of the sequence in your task. In our case, we operate on symbols and the basic unit is a symbol. The number of symbols is small, so we don't need to think about filtering/normalization steps. However, in other tasks, the basic unit is often a word, and in this case the mapping would be *word $\\to$ integer*. The number of words might be huge, so it would be reasonable to filter them, for example, by frequency and leave only the frequent ones. Other strategies that your should consider are: data normalization (lowercasing, tokenization, how to consider punctuation marks), separate vocabulary for input and for output (e.g. for machine translation), some specifics of the task."
      ]
    },
    {
      "cell_type": "code",
      "metadata": {
        "id": "D19si1rHD467",
        "colab_type": "code",
        "colab": {}
      },
      "source": [
        "word2id = {symbol:i for i, symbol in enumerate('#^$+-1234567890')}\n",
        "id2word = {i:symbol for symbol, i in word2id.items()}"
      ],
      "execution_count": 0,
      "outputs": []
    },
    {
      "cell_type": "markdown",
      "metadata": {
        "id": "A_NWm0LXD46-",
        "colab_type": "text"
      },
      "source": [
        "#### Special symbols"
      ]
    },
    {
      "cell_type": "code",
      "metadata": {
        "id": "NCBx9wKuD46_",
        "colab_type": "code",
        "colab": {}
      },
      "source": [
        "start_symbol = '^'\n",
        "end_symbol = '$'\n",
        "padding_symbol = '#'"
      ],
      "execution_count": 0,
      "outputs": []
    },
    {
      "cell_type": "markdown",
      "metadata": {
        "id": "_sbiJ-YmD47E",
        "colab_type": "text"
      },
      "source": [
        "You could notice that we have added 3 special symbols: '^', '\\$' and '#':\n",
        "- '^' symbol will be passed to the network to indicate the beginning of the decoding procedure. We will discuss this one later in more details.\n",
        "- '\\$' symbol will be used to indicate the *end of a string*, both for input and output sequences. \n",
        "- '#' symbol will be used as a *padding* character to make lengths of all strings equal within one training batch.\n",
        "\n",
        "People have a bit different habits when it comes to special symbols in encoder-decoder networks, so don't get too much confused if you come across other variants in tutorials you read. "
      ]
    },
    {
      "cell_type": "markdown",
      "metadata": {
        "id": "Nmy-7D-QD47F",
        "colab_type": "text"
      },
      "source": [
        "#### Padding"
      ]
    },
    {
      "cell_type": "markdown",
      "metadata": {
        "id": "HhllZSxbD47J",
        "colab_type": "text"
      },
      "source": [
        "When vocabularies are ready, we need to be able to convert a sentence to a list of vocabulary word indices and back. At the same time, let's care about padding. We are going to preprocess each sequence from the input (and output ground truth) in such a way that:\n",
        "- it has a predefined length *padded_len*\n",
        "- it is probably cut off or padded with the *padding symbol* '#'\n",
        "- it *always* ends with the *end symbol* '$'\n",
        "\n",
        "We will treat the original characters of the sequence **and the end symbol** as the valid part of the input. We will store *the actual length* of the sequence, which includes the end symbol, but does not include the padding symbols. "
      ]
    },
    {
      "cell_type": "markdown",
      "metadata": {
        "id": "IPaymcxlD47J",
        "colab_type": "text"
      },
      "source": [
        " Now you need to implement the function *sentence_to_ids* that does the described job. "
      ]
    },
    {
      "cell_type": "code",
      "metadata": {
        "id": "hS5dIn_mD47K",
        "colab_type": "code",
        "colab": {}
      },
      "source": [
        "def sentence_to_ids(sentence, word2id, padded_len):\n",
        "    \"\"\" Converts a sequence of symbols to a padded sequence of their ids.\n",
        "    \n",
        "      sentence: a string, input/output sequence of symbols.\n",
        "      word2id: a dict, a mapping from original symbols to ids.\n",
        "      padded_len: an integer, a desirable length of the sequence.\n",
        "\n",
        "      result: a tuple of (a list of ids, an actual length of sentence).\n",
        "    \"\"\"\n",
        "    \n",
        "    sent_ids = [word2id[word] for word in (sentence + end_symbol)]\n",
        "    \n",
        "    if len(sent_ids)>=padded_len:   # too long, needs truncated\n",
        "      sent_ids=sent_ids[:padded_len-1]+[word2id[end_symbol]]\n",
        "      sent_len=padded_len\n",
        "    else:  # too short\n",
        "      sent_len=len(sent_ids)      \n",
        "      sent_ids=sent_ids[:len(sent_ids)] + [word2id[padding_symbol]]*(padded_len-len(sent_ids))\n",
        "      \n",
        "    \n",
        "    return sent_ids, sent_len"
      ],
      "execution_count": 0,
      "outputs": []
    },
    {
      "cell_type": "markdown",
      "metadata": {
        "id": "l148roFAD47V",
        "colab_type": "text"
      },
      "source": [
        "Check that your implementation is correct:"
      ]
    },
    {
      "cell_type": "code",
      "metadata": {
        "id": "iZtcxmwxD47W",
        "colab_type": "code",
        "colab": {}
      },
      "source": [
        "def test_sentence_to_ids():\n",
        "    sentences = [(\"123+123\", 7), (\"123+123\", 8), (\"123+123\", 10)]\n",
        "    expected_output = [([5, 6, 7, 3, 5, 6, 2], 7), \n",
        "                       ([5, 6, 7, 3, 5, 6, 7, 2], 8), \n",
        "                       ([5, 6, 7, 3, 5, 6, 7, 2, 0, 0], 8)] \n",
        "    for (sentence, padded_len), (sentence_ids, expected_length) in zip(sentences, expected_output):\n",
        "        output, length = sentence_to_ids(sentence, word2id, padded_len)\n",
        "        if output != sentence_ids:\n",
        "            return(\"Convertion of '{}' for padded_len={} to {} is incorrect.\".format(\n",
        "                sentence, padded_len, output))\n",
        "        if length != expected_length:\n",
        "            return(\"Convertion of '{}' for padded_len={} has incorrect actual length {}.\".format(\n",
        "                sentence, padded_len, length))\n",
        "    return(\"Tests passed.\")"
      ],
      "execution_count": 0,
      "outputs": []
    },
    {
      "cell_type": "code",
      "metadata": {
        "id": "pCMrMeDAD47Z",
        "colab_type": "code",
        "outputId": "0888fedd-a06d-47d0-e929-e7e718ef6cf7",
        "colab": {
          "base_uri": "https://localhost:8080/",
          "height": 34
        }
      },
      "source": [
        "print(test_sentence_to_ids())"
      ],
      "execution_count": 0,
      "outputs": [
        {
          "output_type": "stream",
          "text": [
            "Tests passed.\n"
          ],
          "name": "stdout"
        }
      ]
    },
    {
      "cell_type": "markdown",
      "metadata": {
        "id": "pH6uIKtWD47g",
        "colab_type": "text"
      },
      "source": [
        "We also need to be able to get back from indices to symbols:"
      ]
    },
    {
      "cell_type": "code",
      "metadata": {
        "id": "pHkz0wwjD47h",
        "colab_type": "code",
        "colab": {}
      },
      "source": [
        "def ids_to_sentence(ids, id2word):\n",
        "    \"\"\" Converts a sequence of ids to a sequence of symbols.\n",
        "    \n",
        "          ids: a list, indices for the padded sequence.\n",
        "          id2word:  a dict, a mapping from ids to original symbols.\n",
        "\n",
        "          result: a list of symbols.\n",
        "    \"\"\"\n",
        " \n",
        "    return [id2word[i] for i in ids] "
      ],
      "execution_count": 0,
      "outputs": []
    },
    {
      "cell_type": "markdown",
      "metadata": {
        "id": "Oz3eWJaLD47k",
        "colab_type": "text"
      },
      "source": [
        "#### Generating batches"
      ]
    },
    {
      "cell_type": "markdown",
      "metadata": {
        "id": "HACDy3YED47l",
        "colab_type": "text"
      },
      "source": [
        "The final step of data preparation is a function that transforms a batch of sentences to a list of lists of indices. "
      ]
    },
    {
      "cell_type": "code",
      "metadata": {
        "id": "HFpyrYfLD47l",
        "colab_type": "code",
        "colab": {}
      },
      "source": [
        "def batch_to_ids(sentences, word2id, max_len):\n",
        "    \"\"\"Prepares batches of indices. \n",
        "    \n",
        "       Sequences are padded to match the longest sequence in the batch,\n",
        "       if it's longer than max_len, then max_len is used instead.\n",
        "\n",
        "        sentences: a list of strings, original sequences.\n",
        "        word2id: a dict, a mapping from original symbols to ids.\n",
        "        max_len: an integer, max len of sequences allowed.\n",
        "\n",
        "        result: a list of lists of ids, a list of actual lengths.\n",
        "    \"\"\"\n",
        "    \n",
        "    max_len_in_batch = min(max(len(s) for s in sentences) + 1, max_len)\n",
        "    batch_ids, batch_ids_len = [], []\n",
        "    for sentence in sentences:\n",
        "        ids, ids_len = sentence_to_ids(sentence, word2id, max_len_in_batch)\n",
        "        batch_ids.append(ids)\n",
        "        batch_ids_len.append(ids_len)\n",
        "    return batch_ids, batch_ids_len"
      ],
      "execution_count": 0,
      "outputs": []
    },
    {
      "cell_type": "markdown",
      "metadata": {
        "id": "pXgx7kpYD47o",
        "colab_type": "text"
      },
      "source": [
        "The function *generate_batches* will help to generate batches with defined size from given samples."
      ]
    },
    {
      "cell_type": "code",
      "metadata": {
        "id": "G_wJZzxyD47p",
        "colab_type": "code",
        "colab": {}
      },
      "source": [
        "def generate_batches(samples, batch_size=64):\n",
        "    X, Y = [], []\n",
        "    for i, (x, y) in enumerate(samples, 1):    # 1 is the starting idx\n",
        "        X.append(x)\n",
        "        Y.append(y)\n",
        "        if i % batch_size == 0:\n",
        "            yield X, Y\n",
        "            X, Y = [], []\n",
        "    if X and Y:\n",
        "        yield X, Y"
      ],
      "execution_count": 0,
      "outputs": []
    },
    {
      "cell_type": "markdown",
      "metadata": {
        "id": "a9KEQq84D47u",
        "colab_type": "text"
      },
      "source": [
        "To illustrate the result of the implemented functions, run the following cell:"
      ]
    },
    {
      "cell_type": "code",
      "metadata": {
        "id": "bFzmMXtcD47u",
        "colab_type": "code",
        "outputId": "3f5b3ecf-9f31-42ee-9fa5-a61d1180b6f4",
        "colab": {
          "base_uri": "https://localhost:8080/",
          "height": 67
        }
      },
      "source": [
        "sentences = train_set[0]\n",
        "ids, sent_lens = batch_to_ids(sentences, word2id, max_len=10)\n",
        "print('Input:', sentences)\n",
        "print('Ids: {}\\nSentences lengths: {}'.format(ids, sent_lens))"
      ],
      "execution_count": 0,
      "outputs": [
        {
          "output_type": "stream",
          "text": [
            "Input: ('2119-1489', '630')\n",
            "Ids: [[6, 5, 5, 13, 4, 5, 8, 12, 13, 2], [10, 7, 14, 2, 0, 0, 0, 0, 0, 0]]\n",
            "Sentences lengths: [10, 4]\n"
          ],
          "name": "stdout"
        }
      ]
    },
    {
      "cell_type": "markdown",
      "metadata": {
        "id": "-EbP-bvbD470",
        "colab_type": "text"
      },
      "source": [
        "## Encoder-Decoder architecture\n",
        "\n",
        "Encoder-Decoder is a successful architecture for Seq2Seq tasks with different lengths of input and output sequences. The main idea is to use two recurrent neural networks, where the first neural network *encodes* the input sequence into a real-valued vector and then the second neural network *decodes* this vector into the output sequence. While building the neural network, we will specify some particular characteristics of this architecture."
      ]
    },
    {
      "cell_type": "code",
      "metadata": {
        "id": "4fKDxvTTD471",
        "colab_type": "code",
        "colab": {}
      },
      "source": [
        "import tensorflow as tf"
      ],
      "execution_count": 0,
      "outputs": []
    },
    {
      "cell_type": "markdown",
      "metadata": {
        "id": "zWYyJw51D474",
        "colab_type": "text"
      },
      "source": [
        "Let us use TensorFlow building blocks to specify the network architecture."
      ]
    },
    {
      "cell_type": "code",
      "metadata": {
        "id": "nIsDPtPMD475",
        "colab_type": "code",
        "colab": {}
      },
      "source": [
        "class Seq2SeqModel(object):\n",
        "    pass"
      ],
      "execution_count": 0,
      "outputs": []
    },
    {
      "cell_type": "markdown",
      "metadata": {
        "id": "igp1jyahD478",
        "colab_type": "text"
      },
      "source": [
        "First, we need to create [placeholders](https://www.tensorflow.org/api_guides/python/io_ops#Placeholders) to specify what data we are going to feed into the network during the execution time. For this task we will need:\n",
        " - *input_batch* — sequences of sentences (the shape will equal to [batch_size, max_sequence_len_in_batch]);\n",
        " - *input_batch_lengths* — lengths of not padded sequences (the shape equals to [batch_size]);\n",
        " - *ground_truth* — sequences of groundtruth (the shape will equal to [batch_size, max_sequence_len_in_batch]);\n",
        " - *ground_truth_lengths* — lengths of not padded groundtruth sequences (the shape equals to [batch_size]);\n",
        " - *dropout_ph* — dropout keep probability; this placeholder has a predifined value 1;\n",
        " - *learning_rate_ph* — learning rate."
      ]
    },
    {
      "cell_type": "code",
      "metadata": {
        "id": "j7pZOsH_D479",
        "colab_type": "code",
        "colab": {}
      },
      "source": [
        "def declare_placeholders(self):\n",
        "    \"\"\"Specifies placeholders for the model.\"\"\"\n",
        "    \n",
        "    # Placeholders for input and its actual lengths.\n",
        "    self.input_batch = tf.placeholder(shape=(None, None), dtype=tf.int32, name='input_batch')\n",
        "    self.input_batch_lengths = tf.placeholder(shape=(None, ), dtype=tf.int32, name='input_batch_lengths')\n",
        "    \n",
        "    # Placeholders for groundtruth and its actual lengths.\n",
        "    self.ground_truth =tf.placeholder(shape=(None, None), dtype=tf.int32, name='ground_truth')\n",
        "    self.ground_truth_lengths = tf.placeholder(shape=(None, ), dtype=tf.int32, name='ground_truth_lengths')\n",
        "        \n",
        "    self.dropout_ph = tf.placeholder_with_default(tf.cast(1.0, tf.float32), shape=[])\n",
        "    self.learning_rate_ph = tf.placeholder_with_default(tf.cast(0.01, tf.float32), shape=[])"
      ],
      "execution_count": 0,
      "outputs": []
    },
    {
      "cell_type": "code",
      "metadata": {
        "id": "XOqs1Q3YD48A",
        "colab_type": "code",
        "colab": {}
      },
      "source": [
        "Seq2SeqModel.__declare_placeholders = classmethod(declare_placeholders)"
      ],
      "execution_count": 0,
      "outputs": []
    },
    {
      "cell_type": "markdown",
      "metadata": {
        "id": "JQSQlyfrD48D",
        "colab_type": "text"
      },
      "source": [
        "Now, let us specify the layers of the neural network. First, we need to prepare an embedding matrix. Since we use the same vocabulary for input and output, we need only one such matrix. For tasks with different vocabularies there would be multiple embedding layers.\n",
        "- Create embeddings matrix with [tf.Variable](https://www.tensorflow.org/api_docs/python/tf/Variable). Specify its name, type (tf.float32), and initialize with random values.\n",
        "- Perform [embeddings lookup](https://www.tensorflow.org/api_docs/python/tf/nn/embedding_lookup) for a given input batch."
      ]
    },
    {
      "cell_type": "code",
      "metadata": {
        "id": "IfztcoqsD48D",
        "colab_type": "code",
        "colab": {}
      },
      "source": [
        "def create_embeddings(self, vocab_size, embeddings_size):\n",
        "    \"\"\"Specifies embeddings layer and embeds an input batch.\"\"\"\n",
        "     \n",
        "    random_initializer = tf.random_uniform((vocab_size, embeddings_size), -1.0, 1.0)\n",
        "    self.embeddings = tf.Variable(random_initializer, name='embeddings')\n",
        "    \n",
        "    # Perform embeddings lookup for self.input_batch. \n",
        "    self.input_batch_embedded = tf.nn.embedding_lookup(self.embeddings, self.input_batch)"
      ],
      "execution_count": 0,
      "outputs": []
    },
    {
      "cell_type": "code",
      "metadata": {
        "id": "2ICJ6nmiD48G",
        "colab_type": "code",
        "colab": {}
      },
      "source": [
        "Seq2SeqModel.__create_embeddings = classmethod(create_embeddings)"
      ],
      "execution_count": 0,
      "outputs": []
    },
    {
      "cell_type": "markdown",
      "metadata": {
        "id": "d9hUX9UrD48K",
        "colab_type": "text"
      },
      "source": [
        "#### Encoder\n",
        "\n",
        "The first RNN of the current architecture is called an *encoder* and serves for encoding an input sequence to a real-valued vector. Input of this RNN is an embedded input batch. Since sentences in the same batch could have different actual lengths, we also provide input lengths to avoid unnecessary computations. The final encoder state will be passed to the second RNN (decoder), which we will create soon. \n",
        "\n",
        "- TensorFlow provides a number of [RNN cells](https://www.tensorflow.org/api_guides/python/contrib.rnn#Core_RNN_Cells_for_use_with_TensorFlow_s_core_RNN_methods) ready for use. We suggest that you use [GRU cell](https://www.tensorflow.org/api_docs/python/tf/contrib/rnn/GRUCell), but you can also experiment with other types. \n",
        "- Wrap your cells with [DropoutWrapper](https://www.tensorflow.org/api_docs/python/tf/contrib/rnn/DropoutWrapper). Dropout is an important regularization technique for neural networks. Specify input keep probability using the dropout placeholder that we created before.\n",
        "- Combine the defined encoder cells with [Dynamic RNN](https://www.tensorflow.org/api_docs/python/tf/nn/dynamic_rnn). Use the embedded input batches and their lengths here.\n",
        "- Use *dtype=tf.float32* everywhere."
      ]
    },
    {
      "cell_type": "code",
      "metadata": {
        "id": "fYmMt2V9D48K",
        "colab_type": "code",
        "colab": {}
      },
      "source": [
        "def build_encoder(self, hidden_size):\n",
        "    \"\"\"Specifies encoder architecture and computes its output.\"\"\"\n",
        "    \n",
        "    # Create GRUCell with dropout.\n",
        "    encoder_cell =tf.nn.rnn_cell.DropoutWrapper(tf.nn.rnn_cell.GRUCell(hidden_size), output_keep_prob=self.dropout_ph)\n",
        "    \n",
        "    # Create RNN with the predefined cell.\n",
        "    _, self.final_encoder_state = tf.nn.dynamic_rnn(encoder_cell, self.input_batch_embedded, dtype=tf.float32)"
      ],
      "execution_count": 0,
      "outputs": []
    },
    {
      "cell_type": "code",
      "metadata": {
        "id": "8ZjW7-0ZD48N",
        "colab_type": "code",
        "colab": {}
      },
      "source": [
        "Seq2SeqModel.__build_encoder = classmethod(build_encoder)"
      ],
      "execution_count": 0,
      "outputs": []
    },
    {
      "cell_type": "markdown",
      "metadata": {
        "id": "Udq9x6DDD48P",
        "colab_type": "text"
      },
      "source": [
        "#### Decoder\n",
        "\n",
        "The second RNN is called a *decoder* and serves for generating the output sequence. In the simple seq2seq arcitecture, the input sequence is provided to the decoder only as the final state of the encoder. Obviously, it is a bottleneck and [Attention techniques](https://www.tensorflow.org/tutorials/seq2seq#background_on_the_attention_mechanism) can help to overcome it. So far, we do not need them to make our calculator work, but this would be a necessary ingredient for more advanced tasks. \n",
        "\n",
        "During training, decoder also uses information about the true output. It is feeded in as input symbol by symbol. However, during the prediction stage (which is called *inference* in this architecture), the decoder can only use its own generated output from the previous step to feed it in at the next step. Because of this difference (*training* vs *inference*), we will create two distinct instances, which will serve for the described scenarios.\n",
        "\n",
        "The picture below illustrates the point. It also shows our work with the special characters, e.g. look how the start symbol `^` is used. The transparent parts are ignored. In decoder, it is masked out in the loss computation. In encoder, the green state is considered as final and passed to the decoder. "
      ]
    },
    {
      "cell_type": "markdown",
      "metadata": {
        "id": "smuBddqpD48Q",
        "colab_type": "text"
      },
      "source": [
        "<img src=\"https://github.com/hse-aml/natural-language-processing/blob/master/week4/encoder-decoder-pic.png?raw=1\" style=\"width: 500px;\">"
      ]
    },
    {
      "cell_type": "markdown",
      "metadata": {
        "id": "9GWqDrF4D48Q",
        "colab_type": "text"
      },
      "source": [
        "Now, it's time to implement the decoder:\n",
        " - First, we should create two [helpers](https://www.tensorflow.org/api_guides/python/contrib.seq2seq#Dynamic_Decoding). These classes help to determine the behaviour of the decoder. During the training time, we will use [TrainingHelper](https://www.tensorflow.org/api_docs/python/tf/contrib/seq2seq/TrainingHelper). For the inference we recommend to use [GreedyEmbeddingHelper](https://www.tensorflow.org/api_docs/python/tf/contrib/seq2seq/GreedyEmbeddingHelper).\n",
        " - To share all parameters during training and inference, we use one scope and set the flag 'reuse' to True at inference time. You might be interested to know more about how [variable scopes](https://www.tensorflow.org/programmers_guide/variables) work in TF. \n",
        " - To create the decoder itself, we will use [BasicDecoder](https://www.tensorflow.org/api_docs/python/tf/contrib/seq2seq/BasicDecoder) class. As previously, you should choose some RNN cell, e.g. GRU cell. To turn hidden states into logits, we will need a projection layer. One of the simple solutions is using [OutputProjectionWrapper](https://www.tensorflow.org/api_docs/python/tf/contrib/rnn/OutputProjectionWrapper).\n",
        " - For getting the predictions, it will be convinient to use [dynamic_decode](https://www.tensorflow.org/api_docs/python/tf/contrib/seq2seq/dynamic_decode). This function uses the provided decoder to perform decoding."
      ]
    },
    {
      "cell_type": "code",
      "metadata": {
        "id": "hwG8dEtnD48R",
        "colab_type": "code",
        "colab": {}
      },
      "source": [
        "def build_decoder(self, hidden_size, vocab_size, max_iter, start_symbol_id, end_symbol_id):\n",
        "    \"\"\"Specifies decoder architecture and computes the output.\n",
        "    \n",
        "        Uses different helpers:\n",
        "          - for train: feeding ground truth\n",
        "          - for inference: feeding generated output\n",
        "\n",
        "        As a result, self.train_outputs and self.infer_outputs are created. \n",
        "        Each of them contains two fields:\n",
        "          rnn_output (predicted logits)\n",
        "          sample_id (predictions).\n",
        "\n",
        "    \"\"\"\n",
        "    \n",
        "    # Use start symbols as the decoder inputs at the first time step.\n",
        "    batch_size = tf.shape(self.input_batch)[0]\n",
        "    start_tokens = tf.fill([batch_size], start_symbol_id)\n",
        "    ground_truth_as_input = tf.concat([tf.expand_dims(start_tokens, 1), self.ground_truth], 1)\n",
        "    \n",
        "    # Use the embedding layer defined before to lookup embedings for ground_truth_as_input. \n",
        "    self.ground_truth_embedded = tf.nn.embedding_lookup(self.embeddings, ground_truth_as_input)\n",
        "     \n",
        "    # Create TrainingHelper for the train stage.\n",
        "    train_helper = tf.contrib.seq2seq.TrainingHelper(self.ground_truth_embedded, self.ground_truth_lengths)\n",
        "    \n",
        "    # Create GreedyEmbeddingHelper for the inference stage.\n",
        "    # You should provide the embedding layer, start_tokens and index of the end symbol.\n",
        "    infer_helper = tf.contrib.seq2seq.GreedyEmbeddingHelper(self.embeddings, start_tokens, end_symbol_id)\n",
        "    \n",
        "  \n",
        "    def decode(helper, scope, reuse=None):\n",
        "        \"\"\"Creates decoder and return the results of the decoding with a given helper.\"\"\"\n",
        "        \n",
        "        with tf.variable_scope(scope, reuse=reuse):\n",
        "            # Create GRUCell with dropout. Do not forget to set the reuse flag properly.\n",
        "            decoder_cell = tf.nn.rnn_cell.DropoutWrapper(tf.nn.rnn_cell.GRUCell(hidden_size, reuse=reuse),output_keep_prob=self.dropout_ph)\n",
        "            \n",
        "            # Create a projection wrapper.\n",
        "            decoder_cell = tf.contrib.rnn.OutputProjectionWrapper(decoder_cell, vocab_size, reuse=reuse)\n",
        "            \n",
        "            # Create BasicDecoder, pass the defined cell, a helper, and initial state.\n",
        "            # The initial state should be equal to the final state of the encoder!\n",
        "            decoder = tf.contrib.seq2seq.BasicDecoder(decoder_cell, helper, self.final_encoder_state)\n",
        "            \n",
        "            # The first returning argument of dynamic_decode contains two fields:\n",
        "            #   rnn_output (predicted logits)\n",
        "            #   sample_id (predictions)\n",
        "            outputs, _, _ = tf.contrib.seq2seq.dynamic_decode(decoder=decoder, maximum_iterations=max_iter, \n",
        "                                                              output_time_major=False, impute_finished=True)\n",
        "\n",
        "            return outputs\n",
        "        \n",
        "    self.train_outputs = decode(train_helper, 'decode')\n",
        "    self.infer_outputs = decode(infer_helper, 'decode', reuse=True)"
      ],
      "execution_count": 0,
      "outputs": []
    },
    {
      "cell_type": "code",
      "metadata": {
        "id": "kWHkSV6hD48T",
        "colab_type": "code",
        "colab": {}
      },
      "source": [
        "Seq2SeqModel.__build_decoder = classmethod(build_decoder)"
      ],
      "execution_count": 0,
      "outputs": []
    },
    {
      "cell_type": "markdown",
      "metadata": {
        "id": "d37zLurWD48V",
        "colab_type": "text"
      },
      "source": [
        "In this task we will use [sequence_loss](https://www.tensorflow.org/api_docs/python/tf/contrib/seq2seq/sequence_loss), which is a weighted cross-entropy loss for a sequence of logits. Take a moment to understand, what is your train logits and targets. Also note, that we do not want to take into account loss terms coming from padding symbols, so we will mask them out using weights.  "
      ]
    },
    {
      "cell_type": "code",
      "metadata": {
        "id": "rQCpzkYtD48W",
        "colab_type": "code",
        "colab": {}
      },
      "source": [
        "def compute_loss(self):\n",
        "    \"\"\"Computes sequence loss (masked cross-entopy loss with logits).\"\"\"\n",
        "    \n",
        "    weights = tf.cast(tf.sequence_mask(self.ground_truth_lengths), dtype=tf.float32)\n",
        "    \n",
        "    self.loss = tf.contrib.seq2seq.sequence_loss(self.train_outputs.rnn_output, self.ground_truth, weights)"
      ],
      "execution_count": 0,
      "outputs": []
    },
    {
      "cell_type": "code",
      "metadata": {
        "id": "-fIb6hUnD48Z",
        "colab_type": "code",
        "colab": {}
      },
      "source": [
        "Seq2SeqModel.__compute_loss = classmethod(compute_loss)"
      ],
      "execution_count": 0,
      "outputs": []
    },
    {
      "cell_type": "markdown",
      "metadata": {
        "id": "G4dtNGUrD48c",
        "colab_type": "text"
      },
      "source": [
        "The last thing to specify is the optimization of the defined loss. \n",
        "We suggest that you use [optimize_loss](https://www.tensorflow.org/api_docs/python/tf/contrib/layers/optimize_loss) with Adam optimizer and a learning rate from the corresponding placeholder. You might also need to pass global step (e.g. as tf.train.get_global_step()) and clip gradients by 1.0."
      ]
    },
    {
      "cell_type": "code",
      "metadata": {
        "id": "As5A9OZ3D48c",
        "colab_type": "code",
        "colab": {}
      },
      "source": [
        "def perform_optimization(self):\n",
        "    \"\"\"Specifies train_op that optimizes self.loss.\"\"\"\n",
        "    \n",
        "    self.train_op = tf.contrib.layers.optimize_loss(self.loss, global_step = tf.train.get_global_step(),learning_rate = self.learning_rate_ph, optimizer='Adam')"
      ],
      "execution_count": 0,
      "outputs": []
    },
    {
      "cell_type": "code",
      "metadata": {
        "id": "PSzst7sYD48f",
        "colab_type": "code",
        "colab": {}
      },
      "source": [
        "Seq2SeqModel.__perform_optimization = classmethod(perform_optimization)"
      ],
      "execution_count": 0,
      "outputs": []
    },
    {
      "cell_type": "markdown",
      "metadata": {
        "id": "jlpmdfViD48h",
        "colab_type": "text"
      },
      "source": [
        "Congratulations! You have specified all the parts of your network. You may have noticed, that we didn't deal with any real data yet, so what you have written is just recipies on how the network should function.\n",
        "Now we will put them to the constructor of our Seq2SeqModel class to use it in the next section. "
      ]
    },
    {
      "cell_type": "code",
      "metadata": {
        "id": "JOoF0y_TD48h",
        "colab_type": "code",
        "colab": {}
      },
      "source": [
        "def init_model(self, vocab_size, embeddings_size, hidden_size, \n",
        "               max_iter, start_symbol_id, end_symbol_id, padding_symbol_id):\n",
        "    \n",
        "    self.__declare_placeholders()\n",
        "    self.__create_embeddings(vocab_size, embeddings_size)\n",
        "    self.__build_encoder(hidden_size)\n",
        "    self.__build_decoder(hidden_size, vocab_size, max_iter, start_symbol_id, end_symbol_id)\n",
        "    \n",
        "    # Compute loss and back-propagate.\n",
        "    self.__compute_loss()\n",
        "    self.__perform_optimization()\n",
        "    \n",
        "    # Get predictions for evaluation.\n",
        "    self.train_predictions = self.train_outputs.sample_id\n",
        "    self.infer_predictions = self.infer_outputs.sample_id"
      ],
      "execution_count": 0,
      "outputs": []
    },
    {
      "cell_type": "code",
      "metadata": {
        "id": "FxM_2AGfD48k",
        "colab_type": "code",
        "colab": {}
      },
      "source": [
        "Seq2SeqModel.__init__ = classmethod(init_model)"
      ],
      "execution_count": 0,
      "outputs": []
    },
    {
      "cell_type": "markdown",
      "metadata": {
        "id": "Dxde0Vx2D48m",
        "colab_type": "text"
      },
      "source": [
        "## Train the network and predict output\n",
        "\n",
        "[Session.run](https://www.tensorflow.org/api_docs/python/tf/Session#run) is a point which initiates computations in the graph that we have defined. To train the network, we need to compute *self.train_op*. To predict output, we just need to compute *self.infer_predictions*. In any case, we need to feed actual data through the placeholders that we defined above. "
      ]
    },
    {
      "cell_type": "code",
      "metadata": {
        "id": "G_afLDc-D48n",
        "colab_type": "code",
        "colab": {}
      },
      "source": [
        "def train_on_batch(self, session, X, X_seq_len, Y, Y_seq_len, learning_rate, dropout_keep_probability):\n",
        "    feed_dict = {\n",
        "            self.input_batch: X,\n",
        "            self.input_batch_lengths: X_seq_len,\n",
        "            self.ground_truth: Y,\n",
        "            self.ground_truth_lengths: Y_seq_len,\n",
        "            self.learning_rate_ph: learning_rate,\n",
        "            self.dropout_ph: dropout_keep_probability\n",
        "        }\n",
        "    pred, loss, _ = session.run([\n",
        "            self.train_predictions,\n",
        "            self.loss,\n",
        "            self.train_op], feed_dict=feed_dict)\n",
        "    return pred, loss"
      ],
      "execution_count": 0,
      "outputs": []
    },
    {
      "cell_type": "code",
      "metadata": {
        "id": "QgRUFXFBD48r",
        "colab_type": "code",
        "colab": {}
      },
      "source": [
        "Seq2SeqModel.train_on_batch = classmethod(train_on_batch)"
      ],
      "execution_count": 0,
      "outputs": []
    },
    {
      "cell_type": "markdown",
      "metadata": {
        "id": "uQXytS5rD48z",
        "colab_type": "text"
      },
      "source": [
        "We implemented two prediction functions: *predict_for_batch* and *predict_for_batch_with_loss*. The first one allows only to predict output for some input sequence, while the second one could compute loss because we provide also ground truth values. Both these functions might be useful since the first one could be used for predicting only, and the second one is helpful for validating results on not-training data during the training."
      ]
    },
    {
      "cell_type": "code",
      "metadata": {
        "id": "zfISYCdeD482",
        "colab_type": "code",
        "colab": {}
      },
      "source": [
        "def predict_for_batch(self, session, X, X_seq_len):\n",
        "    feed_dict ={ self.input_batch: X,self.input_batch_lengths: X_seq_len,}\n",
        "    pred = session.run([\n",
        "            self.infer_predictions\n",
        "        ], feed_dict=feed_dict)[0]\n",
        "    return pred\n",
        "\n",
        "def predict_for_batch_with_loss(self, session, X, X_seq_len, Y, Y_seq_len):\n",
        "    feed_dict = {\n",
        "            self.input_batch: X,\n",
        "            self.input_batch_lengths: X_seq_len,\n",
        "            self.ground_truth: Y,\n",
        "            self.ground_truth_lengths: Y_seq_len,\n",
        "              }\n",
        "    pred, loss = session.run([\n",
        "            self.infer_predictions,\n",
        "            self.loss,\n",
        "        ], feed_dict=feed_dict)\n",
        "    return pred, loss"
      ],
      "execution_count": 0,
      "outputs": []
    },
    {
      "cell_type": "code",
      "metadata": {
        "id": "nhrcfCO6D486",
        "colab_type": "code",
        "colab": {}
      },
      "source": [
        "Seq2SeqModel.predict_for_batch = classmethod(predict_for_batch)\n",
        "Seq2SeqModel.predict_for_batch_with_loss = classmethod(predict_for_batch_with_loss)"
      ],
      "execution_count": 0,
      "outputs": []
    },
    {
      "cell_type": "markdown",
      "metadata": {
        "id": "pJyCeWsbD48-",
        "colab_type": "text"
      },
      "source": [
        "## Run your experiment\n",
        "\n",
        "Create *Seq2SeqModel* model with the following parameters:\n",
        " - *vocab_size* — number of tokens;\n",
        " - *embeddings_size* — dimension of embeddings, recommended value: 20;\n",
        " - *max_iter* — maximum number of steps in decoder, recommended value: 7;\n",
        " - *hidden_size* — size of hidden layers for RNN, recommended value: 512;\n",
        " - *start_symbol_id* — an index of the start token (`^`).\n",
        " - *end_symbol_id* — an index of the end token (`$`).\n",
        " - *padding_symbol_id* — an index of the padding token (`#`).\n",
        "\n",
        "Set hyperparameters. You might want to start with the following values and see how it works:\n",
        "- *batch_size*: 128;\n",
        "- at least 10 epochs;\n",
        "- value of *learning_rate*: 0.001\n",
        "- *dropout_keep_probability* equals to 0.5 for training (typical values for dropout probability are ranging from 0.1 to 1.0); larger values correspond smaler number of dropout units;\n",
        "- *max_len*: 20."
      ]
    },
    {
      "cell_type": "code",
      "metadata": {
        "id": "ogvsm5DKD48_",
        "colab_type": "code",
        "outputId": "fa343989-2392-4712-f783-cbba317ec486",
        "colab": {
          "base_uri": "https://localhost:8080/",
          "height": 490
        }
      },
      "source": [
        "tf.reset_default_graph()\n",
        "\n",
        "model = Seq2SeqModel(vocab_size = len(word2id.keys()), embeddings_size = 20, max_iter = 7,hidden_size = 512, start_symbol_id = word2id['^'], end_symbol_id = word2id['$'],padding_symbol_id = word2id['#'])\n",
        "\n",
        "\n",
        "batch_size = 128\n",
        "n_epochs = 10\n",
        "learning_rate = 0.001\n",
        "dropout_keep_probability = 0.5\n",
        "max_len = 20\n",
        "n_step = int(len(train_set) / batch_size)"
      ],
      "execution_count": 0,
      "outputs": [
        {
          "output_type": "stream",
          "text": [
            "WARNING: Logging before flag parsing goes to stderr.\n",
            "W0705 15:32:25.058127 140193335216000 deprecation.py:323] From <ipython-input-109-a104bc05c46d>:5: GRUCell.__init__ (from tensorflow.python.ops.rnn_cell_impl) is deprecated and will be removed in a future version.\n",
            "Instructions for updating:\n",
            "This class is equivalent as tf.keras.layers.GRUCell, and will be replaced by that in Tensorflow 2.0.\n",
            "W0705 15:32:25.066070 140193335216000 deprecation.py:323] From <ipython-input-109-a104bc05c46d>:8: dynamic_rnn (from tensorflow.python.ops.rnn) is deprecated and will be removed in a future version.\n",
            "Instructions for updating:\n",
            "Please use `keras.layers.RNN(cell)`, which is equivalent to this API\n",
            "W0705 15:32:25.207501 140193335216000 deprecation.py:506] From /usr/local/lib/python3.6/dist-packages/tensorflow/python/ops/init_ops.py:1251: calling VarianceScaling.__init__ (from tensorflow.python.ops.init_ops) with dtype is deprecated and will be removed in a future version.\n",
            "Instructions for updating:\n",
            "Call initializer instance with the dtype argument instead of passing it to the constructor\n",
            "W0705 15:32:25.222401 140193335216000 deprecation.py:506] From /usr/local/lib/python3.6/dist-packages/tensorflow/python/ops/rnn_cell_impl.py:564: calling Constant.__init__ (from tensorflow.python.ops.init_ops) with dtype is deprecated and will be removed in a future version.\n",
            "Instructions for updating:\n",
            "Call initializer instance with the dtype argument instead of passing it to the constructor\n",
            "W0705 15:32:25.242957 140193335216000 deprecation.py:506] From /usr/local/lib/python3.6/dist-packages/tensorflow/python/ops/rnn_cell_impl.py:574: calling Zeros.__init__ (from tensorflow.python.ops.init_ops) with dtype is deprecated and will be removed in a future version.\n",
            "Instructions for updating:\n",
            "Call initializer instance with the dtype argument instead of passing it to the constructor\n",
            "W0705 15:32:27.553404 140193335216000 lazy_loader.py:50] \n",
            "The TensorFlow contrib module will not be included in TensorFlow 2.0.\n",
            "For more information, please see:\n",
            "  * https://github.com/tensorflow/community/blob/master/rfcs/20180907-contrib-sunset.md\n",
            "  * https://github.com/tensorflow/addons\n",
            "  * https://github.com/tensorflow/io (for I/O related ops)\n",
            "If you depend on functionality not listed there, please file an issue.\n",
            "\n",
            "W0705 15:32:27.941189 140193335216000 deprecation.py:323] From /usr/local/lib/python3.6/dist-packages/tensorflow/contrib/seq2seq/python/ops/decoder.py:406: add_dispatch_support.<locals>.wrapper (from tensorflow.python.ops.array_ops) is deprecated and will be removed in a future version.\n",
            "Instructions for updating:\n",
            "Use tf.where in 2.0, which has the same broadcast rule as np.where\n"
          ],
          "name": "stderr"
        }
      ]
    },
    {
      "cell_type": "markdown",
      "metadata": {
        "id": "v05mjKjAD49E",
        "colab_type": "text"
      },
      "source": [
        "Finally, we are ready to run the training! A good indicator that everything works fine is decreasing loss during the training. You should account on the loss value equal to approximately 2.7 at the beginning of the training and near 1 after the 10th epoch."
      ]
    },
    {
      "cell_type": "code",
      "metadata": {
        "scrolled": true,
        "id": "sR8iiND7D49F",
        "colab_type": "code",
        "outputId": "92d88cef-832d-49fd-f37e-1a4371812795",
        "colab": {
          "base_uri": "https://localhost:8080/",
          "height": 1000
        }
      },
      "source": [
        "session = tf.Session()\n",
        "session.run(tf.global_variables_initializer())\n",
        "            \n",
        "invalid_number_prediction_counts = []\n",
        "all_model_predictions = []\n",
        "all_ground_truth = []\n",
        "\n",
        "print('Start training... \\n')\n",
        "for epoch in range(n_epochs):  \n",
        "    random.shuffle(train_set)\n",
        "    random.shuffle(test_set)\n",
        "    \n",
        "    print('Train: epoch', epoch + 1)\n",
        "    for n_iter, (X_batch, Y_batch) in enumerate(generate_batches(train_set, batch_size=batch_size)):\n",
        "        \n",
        "        X_batch_ids, X_batch_len = batch_to_ids(X_batch, word2id, max_len)\n",
        "        Y_batch_ids, Y_batch_len = batch_to_ids(Y_batch, word2id, max_len)\n",
        "\n",
        "        # prepare the data (X_batch and Y_batch) for training\n",
        "        # using function batch_to_ids\n",
        "        predictions, loss = model.train_on_batch(session, X_batch_ids, X_batch_len, Y_batch_ids, Y_batch_len,learning_rate, dropout_keep_probability)\n",
        "        \n",
        "        if n_iter % 200 == 0:\n",
        "            print(\"Epoch: [%d/%d], step: [%d/%d], loss: %f\" % (epoch + 1, n_epochs, n_iter + 1, n_step, loss))\n",
        "                \n",
        "    X_sent, Y_sent = next(generate_batches(test_set, batch_size=batch_size))\n",
        "    X, X_sent_len = batch_to_ids(X_sent, word2id, max_len)\n",
        "    Y, Y_sent_len = batch_to_ids(Y_sent, word2id, max_len)\n",
        "    \n",
        "    # prepare test data (X_sent and Y_sent) for predicting \n",
        "    # quality and computing value of the loss function\n",
        "    # using function batch_to_ids\n",
        "    \n",
        "    predictions, loss = model.predict_for_batch_with_loss(session, X, X_sent_len, Y, Y_sent_len)\n",
        "    print('Test: epoch', epoch + 1, 'loss:', loss,)\n",
        "    for x, y, p  in list(zip(X, Y, predictions))[:3]:\n",
        "        print('X:',''.join(ids_to_sentence(x, id2word)))\n",
        "        print('Y:',''.join(ids_to_sentence(y, id2word)))\n",
        "        print('O:',''.join(ids_to_sentence(p, id2word)))\n",
        "        print('')\n",
        "\n",
        "    model_predictions = []\n",
        "    ground_truth = []\n",
        "    invalid_number_prediction_count = 0\n",
        "    # For the whole test set calculate ground-truth values (as integer numbers)\n",
        "    # and prediction values (also as integers) to calculate metrics.\n",
        "    # If generated by model number is not correct (e.g. '1-1'), \n",
        "    # increase invalid_number_prediction_count and don't append this and corresponding\n",
        "    # ground-truth value to the arrays.\n",
        "    for X_batch, Y_batch in generate_batches(test_set, batch_size=batch_size):\n",
        "        X_batch_ids, X_batch_len = batch_to_ids(X_batch, word2id, max_len)\n",
        "        preds = model.predict_for_batch(session, X_batch_ids, X_batch_len)\n",
        "        \n",
        "        for i in range(len(preds)):\n",
        "          try:\n",
        "            model_predictions.append(int(''.join(ids_to_sentence(preds[i], id2word)).split('$')[0]))\n",
        "            ground_truth.append(int(Y_batch[i]))\n",
        "          except:\n",
        "            invalid_number_prediction_count += 1\n",
        "            \n",
        "    all_model_predictions.append(model_predictions)\n",
        "    all_ground_truth.append(ground_truth)\n",
        "    invalid_number_prediction_counts.append(invalid_number_prediction_count)\n",
        "            \n",
        "print('\\n...training finished.')"
      ],
      "execution_count": 129,
      "outputs": [
        {
          "output_type": "stream",
          "text": [
            "Start training... \n",
            "\n",
            "Train: epoch 1\n",
            "Epoch: [1/10], step: [1/625], loss: 2.720195\n",
            "Epoch: [1/10], step: [201/625], loss: 1.744754\n",
            "Epoch: [1/10], step: [401/625], loss: 1.636096\n",
            "Epoch: [1/10], step: [601/625], loss: 1.534536\n",
            "Test: epoch 1 loss: 1.4713447\n",
            "X: 3667-4767$\n",
            "Y: -1100$\n",
            "O: -1070$\n",
            "\n",
            "X: 1801+4833$\n",
            "Y: 6634$#\n",
            "O: 7104$#\n",
            "\n",
            "X: 9380+334$#\n",
            "Y: 9714$#\n",
            "O: 9033$#\n",
            "\n",
            "Train: epoch 2\n",
            "Epoch: [2/10], step: [1/625], loss: 1.532634\n",
            "Epoch: [2/10], step: [201/625], loss: 1.398354\n",
            "Epoch: [2/10], step: [401/625], loss: 1.370298\n",
            "Epoch: [2/10], step: [601/625], loss: 1.329597\n",
            "Test: epoch 2 loss: 1.2624638\n",
            "X: 131-6169$#\n",
            "Y: -6038$\n",
            "O: -6222$\n",
            "\n",
            "X: 8098-6022$\n",
            "Y: 2076$#\n",
            "O: 1877$#\n",
            "\n",
            "X: 3748-1732$\n",
            "Y: 2016$#\n",
            "O: 1897$#\n",
            "\n",
            "Train: epoch 3\n",
            "Epoch: [3/10], step: [1/625], loss: 1.339502\n",
            "Epoch: [3/10], step: [201/625], loss: 1.278936\n",
            "Epoch: [3/10], step: [401/625], loss: 1.221926\n",
            "Epoch: [3/10], step: [601/625], loss: 1.190904\n",
            "Test: epoch 3 loss: 1.2039186\n",
            "X: 8696+9196$\n",
            "Y: 17892$\n",
            "O: 17672$\n",
            "\n",
            "X: 4310-8492$\n",
            "Y: -4182$\n",
            "O: -4024$\n",
            "\n",
            "X: 9530+4254$\n",
            "Y: 13784$\n",
            "O: 13822$\n",
            "\n",
            "Train: epoch 4\n",
            "Epoch: [4/10], step: [1/625], loss: 1.199990\n",
            "Epoch: [4/10], step: [201/625], loss: 1.233975\n",
            "Epoch: [4/10], step: [401/625], loss: 1.174335\n",
            "Epoch: [4/10], step: [601/625], loss: 1.157987\n",
            "Test: epoch 4 loss: 1.1051677\n",
            "X: 5340+7554$\n",
            "Y: 12894$\n",
            "O: 12878$\n",
            "\n",
            "X: 7947+7324$\n",
            "Y: 15271$\n",
            "O: 15275$\n",
            "\n",
            "X: 7669+8924$\n",
            "Y: 16593$\n",
            "O: 16575$\n",
            "\n",
            "Train: epoch 5\n",
            "Epoch: [5/10], step: [1/625], loss: 1.123632\n",
            "Epoch: [5/10], step: [201/625], loss: 1.161255\n",
            "Epoch: [5/10], step: [401/625], loss: 1.152775\n",
            "Epoch: [5/10], step: [601/625], loss: 1.152521\n",
            "Test: epoch 5 loss: 1.0940038\n",
            "X: 3916+952$#\n",
            "Y: 4868$#\n",
            "O: 4800$#\n",
            "\n",
            "X: 4210+1710$\n",
            "Y: 5920$#\n",
            "O: 5961$#\n",
            "\n",
            "X: 2211-2590$\n",
            "Y: -379$#\n",
            "O: -217$#\n",
            "\n",
            "Train: epoch 6\n",
            "Epoch: [6/10], step: [1/625], loss: 1.117557\n",
            "Epoch: [6/10], step: [201/625], loss: 1.132930\n",
            "Epoch: [6/10], step: [401/625], loss: 1.090353\n",
            "Epoch: [6/10], step: [601/625], loss: 1.098989\n",
            "Test: epoch 6 loss: 1.0593102\n",
            "X: 7890-1504$\n",
            "Y: 6386$#\n",
            "O: 6382$#\n",
            "\n",
            "X: 8742-5516$\n",
            "Y: 3226$#\n",
            "O: 3121$#\n",
            "\n",
            "X: 626-819$##\n",
            "Y: -193$#\n",
            "O: -216$#\n",
            "\n",
            "Train: epoch 7\n",
            "Epoch: [7/10], step: [1/625], loss: 1.084682\n",
            "Epoch: [7/10], step: [201/625], loss: 1.074261\n",
            "Epoch: [7/10], step: [401/625], loss: 1.029976\n",
            "Epoch: [7/10], step: [601/625], loss: 1.055319\n",
            "Test: epoch 7 loss: 1.0033284\n",
            "X: 6219+3124$\n",
            "Y: 9343$#\n",
            "O: 9363$#\n",
            "\n",
            "X: 1145-7381$\n",
            "Y: -6236$\n",
            "O: -6265$\n",
            "\n",
            "X: 5836+9079$\n",
            "Y: 14915$\n",
            "O: 14936$\n",
            "\n",
            "Train: epoch 8\n",
            "Epoch: [8/10], step: [1/625], loss: 1.030170\n",
            "Epoch: [8/10], step: [201/625], loss: 1.056399\n",
            "Epoch: [8/10], step: [401/625], loss: 1.102036\n",
            "Epoch: [8/10], step: [601/625], loss: 1.078657\n",
            "Test: epoch 8 loss: 1.1092875\n",
            "X: 197-705$##\n",
            "Y: -508$#\n",
            "O: -513$#\n",
            "\n",
            "X: 2201-8341$\n",
            "Y: -6140$\n",
            "O: -6288$\n",
            "\n",
            "X: 6617+6327$\n",
            "Y: 12944$\n",
            "O: 12929$\n",
            "\n",
            "Train: epoch 9\n",
            "Epoch: [9/10], step: [1/625], loss: 1.147532\n",
            "Epoch: [9/10], step: [201/625], loss: 1.048670\n",
            "Epoch: [9/10], step: [401/625], loss: 1.048549\n",
            "Test: epoch 9 loss: 1.0176481\n",
            "X: 548-4360$#\n",
            "Y: -3812$\n",
            "O: -3839$\n",
            "\n",
            "X: 8888+1267$\n",
            "Y: 10155$\n",
            "O: 10263$\n",
            "\n",
            "X: 4088-6502$\n",
            "Y: -2414$\n",
            "O: -2390$\n",
            "\n",
            "Train: epoch 10\n",
            "Epoch: [10/10], step: [1/625], loss: 1.035303\n",
            "Epoch: [10/10], step: [201/625], loss: 1.047511\n",
            "Epoch: [10/10], step: [401/625], loss: 1.103440\n",
            "Epoch: [10/10], step: [601/625], loss: 1.052235\n",
            "Test: epoch 10 loss: 0.987721\n",
            "X: 8120-8685$\n",
            "Y: -565$#\n",
            "O: -560$#\n",
            "\n",
            "X: 8328+202$#\n",
            "Y: 8530$#\n",
            "O: 8479$#\n",
            "\n",
            "X: 4485+5013$\n",
            "Y: 9498$#\n",
            "O: 9474$#\n",
            "\n",
            "\n",
            "...training finished.\n"
          ],
          "name": "stdout"
        }
      ]
    },
    {
      "cell_type": "markdown",
      "metadata": {
        "id": "c1dEJy1TD49H",
        "colab_type": "text"
      },
      "source": [
        "## Evaluate results\n",
        "\n",
        "Because our task is simple and the output is straight-forward, we will use [MAE](https://en.wikipedia.org/wiki/Mean_absolute_error) metric to evaluate the trained model during the epochs. Compute the value of the metric for the output from each epoch."
      ]
    },
    {
      "cell_type": "code",
      "metadata": {
        "id": "1T9Nm74aD49H",
        "colab_type": "code",
        "colab": {}
      },
      "source": [
        "from sklearn.metrics import mean_absolute_error"
      ],
      "execution_count": 0,
      "outputs": []
    },
    {
      "cell_type": "code",
      "metadata": {
        "id": "oQeqqozID49K",
        "colab_type": "code",
        "colab": {
          "base_uri": "https://localhost:8080/",
          "height": 185
        },
        "outputId": "e7e8b507-23b2-4bf3-a6fc-3ef7ba72b601"
      },
      "source": [
        "for i, (gts, predictions, invalid_number_prediction_count) in enumerate(zip(all_ground_truth,\n",
        "                                                                            all_model_predictions,\n",
        "                                                                            invalid_number_prediction_counts), 1):\n",
        "    mae =  mean_absolute_error(gts, predictions)\n",
        "    print(\"Epoch: %i, MAE: %f, Invalid numbers: %i\" % (i, mae, invalid_number_prediction_count))"
      ],
      "execution_count": 132,
      "outputs": [
        {
          "output_type": "stream",
          "text": [
            "Epoch: 1, MAE: 619.773050, Invalid numbers: 0\n",
            "Epoch: 2, MAE: 208.467100, Invalid numbers: 0\n",
            "Epoch: 3, MAE: 148.346450, Invalid numbers: 0\n",
            "Epoch: 4, MAE: 72.488000, Invalid numbers: 0\n",
            "Epoch: 5, MAE: 77.947150, Invalid numbers: 0\n",
            "Epoch: 6, MAE: 65.754000, Invalid numbers: 0\n",
            "Epoch: 7, MAE: 51.563250, Invalid numbers: 0\n",
            "Epoch: 8, MAE: 85.617350, Invalid numbers: 0\n",
            "Epoch: 9, MAE: 51.656350, Invalid numbers: 0\n",
            "Epoch: 10, MAE: 51.009400, Invalid numbers: 0\n"
          ],
          "name": "stdout"
        }
      ]
    }
  ]
}